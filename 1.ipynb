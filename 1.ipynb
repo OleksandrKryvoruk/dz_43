{
 "cells": [
  {
   "cell_type": "markdown",
   "id": "5f6ab5d0",
   "metadata": {},
   "source": [
    "**Завдання:**\n",
    "\n",
    "Застосуйте описані в лекції методи відбору ознак, використовуючи датасет ірісів Фішера."
   ]
  },
  {
   "cell_type": "code",
   "execution_count": 12,
   "id": "a5280cba",
   "metadata": {},
   "outputs": [
    {
     "name": "stdout",
     "output_type": "stream",
     "text": [
      "Форма масиву data: (150, 4)\n",
      "Перші десять строк масиву data:\n",
      "[[5.1 3.5 1.4 0.2]\n",
      " [4.9 3.  1.4 0.2]\n",
      " [4.7 3.2 1.3 0.2]\n",
      " [4.6 3.1 1.5 0.2]\n",
      " [5.  3.6 1.4 0.2]\n",
      " [5.4 3.9 1.7 0.4]\n",
      " [4.6 3.4 1.4 0.3]\n",
      " [5.  3.4 1.5 0.2]\n",
      " [4.4 2.9 1.4 0.2]\n",
      " [4.9 3.1 1.5 0.1]]\n"
     ]
    }
   ],
   "source": [
    "from sklearn import datasets\n",
    "\n",
    "iris = datasets.load_iris()\n",
    "print('Форма масиву data: {}'.format(iris['data'].shape))\n",
    "print('Перші десять строк масиву data:\\n{}'.format(iris['data'][:10]))"
   ]
  },
  {
   "cell_type": "markdown",
   "id": "9d1702a4",
   "metadata": {},
   "source": [
    "**1. Variance Treshold.**"
   ]
  },
  {
   "cell_type": "code",
   "execution_count": 25,
   "id": "6bb7c435",
   "metadata": {},
   "outputs": [
    {
     "name": "stdout",
     "output_type": "stream",
     "text": [
      "Форма масиву даних після використовування Variance Treshold: (112, 3)\n",
      "Перші десять строк масиву даних після використовування Variance Treshold:\n",
      "[[5.  1.4 0.2]\n",
      " [5.2 1.5 0.1]\n",
      " [5.8 5.1 1.9]\n",
      " [6.  4.5 1.6]\n",
      " [6.7 4.7 1.5]\n",
      " [5.4 1.3 0.4]\n",
      " [5.4 1.5 0.2]\n",
      " [5.5 3.7 1. ]\n",
      " [6.3 5.1 1.5]\n",
      " [6.4 5.5 1.8]]\n",
      "\n",
      "Logistic Rregression:\n",
      "_____________________________\n",
      "Accuracy:   1.0\n",
      "Precision:  [1. 1. 1.]\n",
      "Recall:     [1. 1. 1.]\n",
      "F1:         [1. 1. 1.]\n"
     ]
    }
   ],
   "source": [
    "from sklearn.feature_selection import VarianceThreshold\n",
    "from sklearn.model_selection import train_test_split\n",
    "from sklearn import metrics\n",
    "from sklearn.linear_model  import LogisticRegression\n",
    "\n",
    "X_train, X_test, y_train, y_test = train_test_split(iris['data'], iris['target'], random_state=42)\n",
    "model = LogisticRegression()\n",
    "\n",
    "vt_selector = VarianceThreshold(threshold=0.4)\n",
    "vt_X = vt_selector.fit_transform(X_train)\n",
    "vt_X_test = vt_selector.fit_transform(X_test)\n",
    "\n",
    "print('Форма масиву даних після використовування Variance Treshold: {}'.format(vt_X.shape))\n",
    "print('Перші десять строк масиву даних після використовування Variance Treshold:\\n{}'.format(vt_X[:10]))\n",
    "\n",
    "model.fit(vt_X, y_train)\n",
    "y_predict_vt = model.predict(vt_X_test)\n",
    "\n",
    "print(\"\\nLogistic Rregression:\\n_____________________________\")\n",
    "print(\"Accuracy:  \", metrics.accuracy_score(y_test, y_predict_vt))\n",
    "print(\"Precision: \", metrics.precision_score(y_test, y_predict_vt, average=None))\n",
    "print(\"Recall:    \", metrics.recall_score(y_test, y_predict_vt, average=None))\n",
    "print(\"F1:        \", metrics.f1_score(y_test, y_predict_vt, average=None))"
   ]
  },
  {
   "cell_type": "markdown",
   "id": "f80eac03",
   "metadata": {},
   "source": [
    "**2. SelectKBest.**"
   ]
  },
  {
   "cell_type": "code",
   "execution_count": 26,
   "id": "006de868",
   "metadata": {},
   "outputs": [
    {
     "name": "stdout",
     "output_type": "stream",
     "text": [
      "Форма масиву даних після використовування SelectKBest: (112, 2)\n",
      "Перші десять строк масиву даних після використовування SelectKBest:\n",
      "[[1.4 0.2]\n",
      " [1.5 0.1]\n",
      " [5.1 1.9]\n",
      " [4.5 1.6]\n",
      " [4.7 1.5]\n",
      " [1.3 0.4]\n",
      " [1.5 0.2]\n",
      " [3.7 1. ]\n",
      " [5.1 1.5]\n",
      " [5.5 1.8]]\n",
      "\n",
      "Logistic Rregression:\n",
      "_____________________________\n",
      "Accuracy:   1.0\n",
      "Precision:  [1. 1. 1.]\n",
      "Recall:     [1. 1. 1.]\n",
      "F1:         [1. 1. 1.]\n"
     ]
    }
   ],
   "source": [
    "from sklearn.feature_selection import SelectKBest, f_classif\n",
    "\n",
    "skb_selector = SelectKBest(f_classif, k=2)\n",
    "skb_X = skb_selector.fit_transform(X_train, y_train)\n",
    "skb_X_test = skb_selector.fit_transform(X_test, y_test)\n",
    "\n",
    "print('Форма масиву даних після використовування SelectKBest: {}'.format(skb_X.shape))\n",
    "print('Перші десять строк масиву даних після використовування SelectKBest:\\n{}'.format(skb_X[:10]))\n",
    "\n",
    "model.fit(skb_X, y_train)\n",
    "y_predict_skb = model.predict(skb_X_test)\n",
    "\n",
    "print(\"\\nLogistic Rregression:\\n_____________________________\")\n",
    "print(\"Accuracy:  \", metrics.accuracy_score(y_test, y_predict_skb))\n",
    "print(\"Precision: \", metrics.precision_score(y_test, y_predict_skb, average=None))\n",
    "print(\"Recall:    \", metrics.recall_score(y_test, y_predict_skb, average=None))\n",
    "print(\"F1:        \", metrics.f1_score(y_test, y_predict_skb, average=None))"
   ]
  },
  {
   "cell_type": "markdown",
   "id": "da8c4f45",
   "metadata": {},
   "source": [
    "**3. SelectFromModel.**"
   ]
  },
  {
   "cell_type": "code",
   "execution_count": 24,
   "id": "4aecde7e",
   "metadata": {},
   "outputs": [
    {
     "name": "stdout",
     "output_type": "stream",
     "text": [
      "Вивід ознак, відібраних по параметру важливості: Index(['sepal length (cm)', 'sepal width (cm)', 'petal length (cm)',\n",
      "       'petal width (cm)'],\n",
      "      dtype='object')\n",
      "\n",
      "Форма масиву даних після використовування SelectFromModel: (150, 4)\n",
      "Перші десять строк масиву даних після використовування SelectFromModel:\n",
      "[[5.1 3.5 1.4 0.2]\n",
      " [4.9 3.  1.4 0.2]\n",
      " [4.7 3.2 1.3 0.2]\n",
      " [4.6 3.1 1.5 0.2]\n",
      " [5.  3.6 1.4 0.2]\n",
      " [5.4 3.9 1.7 0.4]\n",
      " [4.6 3.4 1.4 0.3]\n",
      " [5.  3.4 1.5 0.2]\n",
      " [4.4 2.9 1.4 0.2]\n",
      " [4.9 3.1 1.5 0.1]]\n"
     ]
    },
    {
     "name": "stderr",
     "output_type": "stream",
     "text": [
      "C:\\users\\админ\\appdata\\local\\programs\\python\\python311\\lib\\site-packages\\sklearn\\linear_model\\_logistic.py:458: ConvergenceWarning: lbfgs failed to converge (status=1):\n",
      "STOP: TOTAL NO. of ITERATIONS REACHED LIMIT.\n",
      "\n",
      "Increase the number of iterations (max_iter) or scale the data as shown in:\n",
      "    https://scikit-learn.org/stable/modules/preprocessing.html\n",
      "Please also refer to the documentation for alternative solver options:\n",
      "    https://scikit-learn.org/stable/modules/linear_model.html#logistic-regression\n",
      "  n_iter_i = _check_optimize_result(\n"
     ]
    }
   ],
   "source": [
    "from sklearn.feature_selection import SelectFromModel\n",
    "from sklearn.linear_model  import LogisticRegression\n",
    "import pandas as pd\n",
    "\n",
    "df = pd.DataFrame(iris.data, columns = iris.feature_names)\n",
    "\n",
    "sfm_selector = SelectFromModel(estimator=LogisticRegression(), threshold=.2)\n",
    "sfm_selector.fit(df, iris.target)\n",
    "\n",
    "print('Вивід ознак, відібраних по параметру важливості: {}'.format(df.columns[sfm_selector.get_support()]))\n",
    "\n",
    "df = sfm_selector.transform(df)\n",
    "\n",
    "print('\\nФорма масиву даних після використовування SelectFromModel: {}'.format(df.shape))\n",
    "print('Перші десять строк масиву даних після використовування SelectFromModel:\\n{}'.format(df[:10]))"
   ]
  },
  {
   "cell_type": "markdown",
   "id": "2094687f",
   "metadata": {},
   "source": [
    "**4. Метод головних компонент (PCA).**"
   ]
  },
  {
   "cell_type": "code",
   "execution_count": 20,
   "id": "9aaa5367",
   "metadata": {},
   "outputs": [
    {
     "name": "stdout",
     "output_type": "stream",
     "text": [
      "\n",
      "Форма масиву даних після використовування PCA: (112, 2)\n",
      "Перші десять строк масиву даних після використовування PCA:\n",
      "[[-2.77109765 -0.36609042]\n",
      " [-2.68813825 -0.85121143]\n",
      " [ 1.37004014  0.55462789]\n",
      " [ 0.76518066 -0.21536736]\n",
      " [ 1.17701069 -0.43853186]\n",
      " [-2.66488464 -0.84695007]\n",
      " [-2.5489393  -0.68645606]\n",
      " [-0.2372631   0.64233906]\n",
      " [ 1.39964322  0.11324195]\n",
      " [ 1.86249612 -0.07179487]]\n",
      "\n",
      "Logistic Rregression:\n",
      "_____________________________\n",
      "Accuracy:   0.9473684210526315\n",
      "Precision:  [1.         1.         0.85714286]\n",
      "Recall:     [1.         0.81818182 1.        ]\n",
      "F1:         [1.         0.9        0.92307692]\n"
     ]
    }
   ],
   "source": [
    "from sklearn.decomposition import PCA\n",
    "\n",
    "pca_selector = PCA(n_components=2)\n",
    "pca_X = pca_selector.fit_transform(X_train)\n",
    "pca_X_test = pca_selector.fit_transform(X_test)\n",
    "\n",
    "print('\\nФорма масиву даних після використовування PCA: {}'.format(pca_X.shape))\n",
    "print('Перші десять строк масиву даних після використовування PCA:\\n{}'.format(pca_X[:10]))\n",
    "\n",
    "model.fit(pca_X, y_train)\n",
    "y_predict_pca = model.predict(pca_X_test)\n",
    "\n",
    "print(\"\\nLogistic Rregression:\\n_____________________________\")\n",
    "print(\"Accuracy:  \", metrics.accuracy_score(y_test, y_predict_pca))\n",
    "print(\"Precision: \", metrics.precision_score(y_test, y_predict_pca, average=None))\n",
    "print(\"Recall:    \", metrics.recall_score(y_test, y_predict_pca, average=None))\n",
    "print(\"F1:        \", metrics.f1_score(y_test, y_predict_pca, average=None))"
   ]
  },
  {
   "cell_type": "markdown",
   "id": "d8ba01f5",
   "metadata": {},
   "source": [
    "**5. TruncatedSVD.**"
   ]
  },
  {
   "cell_type": "code",
   "execution_count": 27,
   "id": "2577aebc",
   "metadata": {},
   "outputs": [
    {
     "name": "stdout",
     "output_type": "stream",
     "text": [
      "\n",
      "Форма масиву даних після використовування SVD: (112, 2)\n",
      "Перші десять строк масиву даних після використовування SVD:\n",
      "[[ 5.86338131  2.3586799 ]\n",
      " [ 6.23710476  2.65262737]\n",
      " [ 8.32420238 -1.09974967]\n",
      " [ 8.37747202 -0.13287542]\n",
      " [ 8.87464882 -0.19900936]\n",
      " [ 6.2583595   2.64083503]\n",
      " [ 6.25242069  2.45907227]\n",
      " [ 7.10941022 -0.05077251]\n",
      " [ 8.66874615 -0.76213874]\n",
      " [ 9.11482667 -0.95579345]]\n",
      "\n",
      "Logistic Rregression:\n",
      "_____________________________\n",
      "Accuracy:   0.9473684210526315\n",
      "Precision:  [1.         1.         0.85714286]\n",
      "Recall:     [1.         0.81818182 1.        ]\n",
      "F1:         [1.         0.9        0.92307692]\n"
     ]
    }
   ],
   "source": [
    "from sklearn.decomposition import TruncatedSVD\n",
    "\n",
    "svd_selector = TruncatedSVD(n_components=2)\n",
    "svd_X = svd_selector.fit_transform(X_train)\n",
    "svd_X_test = svd_selector.fit_transform(X_test)\n",
    "\n",
    "print('\\nФорма масиву даних після використовування SVD: {}'.format(svd_X.shape))\n",
    "print('Перші десять строк масиву даних після використовування SVD:\\n{}'.format(svd_X[:10]))\n",
    "\n",
    "model.fit(svd_X, y_train)\n",
    "y_predict_svd = model.predict(svd_X_test)\n",
    "\n",
    "print(\"\\nLogistic Rregression:\\n_____________________________\")\n",
    "print(\"Accuracy:  \", metrics.accuracy_score(y_test, y_predict_svd))\n",
    "print(\"Precision: \", metrics.precision_score(y_test, y_predict_svd, average=None))\n",
    "print(\"Recall:    \", metrics.recall_score(y_test, y_predict_svd, average=None))\n",
    "print(\"F1:        \", metrics.f1_score(y_test, y_predict_svd, average=None))"
   ]
  },
  {
   "cell_type": "markdown",
   "id": "1407aff0",
   "metadata": {},
   "source": [
    "**6. LinearDiscriminantAnalysis.**"
   ]
  },
  {
   "cell_type": "code",
   "execution_count": 28,
   "id": "fbc4bbee",
   "metadata": {},
   "outputs": [
    {
     "name": "stdout",
     "output_type": "stream",
     "text": [
      "\n",
      "Форма масиву даних після використовування LDA: (112, 2)\n",
      "Перші десять строк масиву даних після використовування LDA:\n",
      "[[ 8.50522458  0.55045306]\n",
      " [ 9.59697064  1.39037581]\n",
      " [-5.37250647 -0.04278707]\n",
      " [-1.76100734  1.2614366 ]\n",
      " [-1.97526414  0.18390504]\n",
      " [ 9.16294435  1.77106029]\n",
      " [ 8.78559572  0.70299107]\n",
      " [-0.70099117 -1.8962947 ]\n",
      " [-3.82390318 -0.76889469]\n",
      " [-4.85035485  0.3538719 ]]\n",
      "\n",
      "Logistic Rregression:\n",
      "_____________________________\n",
      "Accuracy:   0.9736842105263158\n",
      "Precision:  [1.         1.         0.92307692]\n",
      "Recall:     [1.         0.90909091 1.        ]\n",
      "F1:         [1.         0.95238095 0.96      ]\n"
     ]
    }
   ],
   "source": [
    "from sklearn.discriminant_analysis import LinearDiscriminantAnalysis\n",
    "\n",
    "lda_selector = LinearDiscriminantAnalysis()\n",
    "lda_X = lda_selector.fit_transform(X_train, y_train)\n",
    "lda_X_test = lda_selector.fit_transform(X_test, y_test)\n",
    "\n",
    "print('\\nФорма масиву даних після використовування LDA: {}'.format(lda_X.shape))\n",
    "print('Перші десять строк масиву даних після використовування LDA:\\n{}'.format(lda_X[:10]))\n",
    "\n",
    "model.fit(lda_X, y_train)\n",
    "y_predict_lda = model.predict(lda_X_test)\n",
    "\n",
    "print(\"\\nLogistic Rregression:\\n_____________________________\")\n",
    "print(\"Accuracy:  \", metrics.accuracy_score(y_test, y_predict_lda))\n",
    "print(\"Precision: \", metrics.precision_score(y_test, y_predict_lda, average=None))\n",
    "print(\"Recall:    \", metrics.recall_score(y_test, y_predict_lda, average=None))\n",
    "print(\"F1:        \", metrics.f1_score(y_test, y_predict_lda, average=None))"
   ]
  },
  {
   "cell_type": "code",
   "execution_count": null,
   "id": "15b60e9c",
   "metadata": {},
   "outputs": [],
   "source": []
  }
 ],
 "metadata": {
  "kernelspec": {
   "display_name": "Python 3 (ipykernel)",
   "language": "python",
   "name": "python3"
  },
  "language_info": {
   "codemirror_mode": {
    "name": "ipython",
    "version": 3
   },
   "file_extension": ".py",
   "mimetype": "text/x-python",
   "name": "python",
   "nbconvert_exporter": "python",
   "pygments_lexer": "ipython3",
   "version": "3.9.7"
  }
 },
 "nbformat": 4,
 "nbformat_minor": 5
}
